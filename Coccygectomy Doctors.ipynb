{
 "cells": [
  {
   "cell_type": "code",
   "execution_count": 4,
   "metadata": {},
   "outputs": [],
   "source": [
    "import requests\n",
    "import pandas as pd\n",
    "from bs4 import BeautifulSoup as soup"
   ]
  },
  {
   "cell_type": "code",
   "execution_count": 5,
   "metadata": {},
   "outputs": [],
   "source": [
    "#set the url\n",
    "coccygectomy_url = 'https://www.coccyx.org/treatmen/docsusa.htm'"
   ]
  },
  {
   "cell_type": "code",
   "execution_count": 6,
   "metadata": {},
   "outputs": [],
   "source": [
    "#request\n",
    "req = requests.get(coccygectomy_url, allow_redirects=False)"
   ]
  },
  {
   "cell_type": "code",
   "execution_count": 7,
   "metadata": {},
   "outputs": [],
   "source": [
    "#parse with bs\n",
    "page = soup(req.content)"
   ]
  },
  {
   "cell_type": "code",
   "execution_count": 8,
   "metadata": {},
   "outputs": [],
   "source": [
    "p = page.find_all('p')[4:-4]"
   ]
  },
  {
   "cell_type": "code",
   "execution_count": 9,
   "metadata": {},
   "outputs": [],
   "source": [
    "#find all entries with the keyword 'coccygectomy'\n",
    "coccygectomy = [item for item in p if 'coccygectomy' in item.text]"
   ]
  },
  {
   "cell_type": "code",
   "execution_count": 12,
   "metadata": {
    "collapsed": true,
    "jupyter": {
     "outputs_hidden": true
    }
   },
   "outputs": [
    {
     "data": {
      "text/plain": [
       "[<p><strong>Arizona -:- coccygectomy</strong>\n",
       " Dr. Mark Garrett, surgeon. Barrow Neurosurgical Associates. Phone (602) 406-3181. Website: <a href=\"https://www.barrowbrainandspine.com/\">www.barrowbrainandspine.com</a>. See <a href=\"../personal/2013/anon1305.htm\">Anonymous's story</a>.</p>,\n",
       " <p><strong>California -:- coccygectomy</strong>\n",
       " Rudolph J. Schrot, MD. Adult Cranial and Spinal Neurosurgery, Sutter Medical Group, 2800 L Street, Suite 500, Sacramento, CA 95816. Tel. (916) 454-6916. Website: <a href=\"https://www.sutterhealth.org/dr-rudolph-j-schrot.html\">www.sutterhealth.org</a>. Author of a <a href=\"https://www.ncbi.nlm.nih.gov/pubmed/21332277\">paper on coccygectomy</a>. See <a href=\"../personal/2008/anon0815.htm\">Noel's story</a>, <a href=\"../personal/2009/rodger.htm\">Rodger's story</a>, <a href=\"../personal/2010/neil.htm\">Neil's story</a>, <a href=\"../personal/2011/lynette.htm\">Lynette's story</a>, <a href=\"../personal/2011/linda.htm\">Linda's story</a>, <a href=\"../personal/2018/mj.htm\">MJ's story</a>, <a href=\"../personal/2017/josh.htm\">Josh's story</a>, <a href=\"../personal/2020/will.htm\">Will's story</a>. </p>,\n",
       " <p><strong>California -:- coccygectomy</strong>\n",
       " Gilbert Cadena, MD. Neurological Surgery, UC Irvine Medical Center, 101 The City Dr S, Orange, CA 92868. Phone (714) 456-6011. Recommended by a patient.</p>]"
      ]
     },
     "execution_count": 12,
     "metadata": {},
     "output_type": "execute_result"
    }
   ],
   "source": [
    "#have an initial look. the data seems very unorganized.\n",
    "coccygectomy[:3]"
   ]
  },
  {
   "cell_type": "code",
   "execution_count": 11,
   "metadata": {},
   "outputs": [
    {
     "data": {
      "text/plain": [
       "['Arizona -:- coccygectomy',\n",
       " \"Dr. Mark Garrett, surgeon. Barrow Neurosurgical Associates. Phone (602) 406-3181. Website: www.barrowbrainandspine.com. See Anonymous's story.\"]"
      ]
     },
     "execution_count": 11,
     "metadata": {},
     "output_type": "execute_result"
    }
   ],
   "source": [
    "coccygectomy[0].text.split('\\n')"
   ]
  },
  {
   "cell_type": "code",
   "execution_count": 13,
   "metadata": {},
   "outputs": [],
   "source": [
    "#split each entry into small pieces and save in a dictionary\n",
    "doc_dict = [{'state': item.text.split(' -:- ')[0],\n",
    "      'doctor': item.text.split('\\n')[1].split(',')[0], \n",
    "      'treatment': item.text.split('\\n')[0].split()[2:], \n",
    "      'info': item.text.split('\\n')[1].split(',')[1:]} for item in coccygectomy]"
   ]
  },
  {
   "cell_type": "code",
   "execution_count": 14,
   "metadata": {},
   "outputs": [
    {
     "data": {
      "text/html": [
       "<div>\n",
       "<style scoped>\n",
       "    .dataframe tbody tr th:only-of-type {\n",
       "        vertical-align: middle;\n",
       "    }\n",
       "\n",
       "    .dataframe tbody tr th {\n",
       "        vertical-align: top;\n",
       "    }\n",
       "\n",
       "    .dataframe thead th {\n",
       "        text-align: right;\n",
       "    }\n",
       "</style>\n",
       "<table border=\"1\" class=\"dataframe\">\n",
       "  <thead>\n",
       "    <tr style=\"text-align: right;\">\n",
       "      <th></th>\n",
       "      <th>state</th>\n",
       "      <th>doctor</th>\n",
       "      <th>treatment</th>\n",
       "      <th>info</th>\n",
       "    </tr>\n",
       "  </thead>\n",
       "  <tbody>\n",
       "    <tr>\n",
       "      <th>0</th>\n",
       "      <td>Arizona</td>\n",
       "      <td>Dr. Mark Garrett</td>\n",
       "      <td>[coccygectomy]</td>\n",
       "      <td>[ surgeon. Barrow Neurosurgical Associates. Ph...</td>\n",
       "    </tr>\n",
       "    <tr>\n",
       "      <th>1</th>\n",
       "      <td>California</td>\n",
       "      <td>Rudolph J. Schrot</td>\n",
       "      <td>[coccygectomy]</td>\n",
       "      <td>[ MD. Adult Cranial and Spinal Neurosurgery,  ...</td>\n",
       "    </tr>\n",
       "    <tr>\n",
       "      <th>2</th>\n",
       "      <td>California</td>\n",
       "      <td>Gilbert Cadena</td>\n",
       "      <td>[coccygectomy]</td>\n",
       "      <td>[ MD. Neurological Surgery,  UC Irvine Medical...</td>\n",
       "    </tr>\n",
       "    <tr>\n",
       "      <th>3</th>\n",
       "      <td>California</td>\n",
       "      <td>Kirkham B. Wood</td>\n",
       "      <td>[injections,, coccygectomy]</td>\n",
       "      <td>[ MD. Professor of Orthopaedic Surgery at the ...</td>\n",
       "    </tr>\n",
       "    <tr>\n",
       "      <th>4</th>\n",
       "      <td>California</td>\n",
       "      <td>Dr Steven D Mills</td>\n",
       "      <td>[coccygectomy]</td>\n",
       "      <td>[. University of California,  Irvine,  333 Cit...</td>\n",
       "    </tr>\n",
       "    <tr>\n",
       "      <th>...</th>\n",
       "      <td>...</td>\n",
       "      <td>...</td>\n",
       "      <td>...</td>\n",
       "      <td>...</td>\n",
       "    </tr>\n",
       "    <tr>\n",
       "      <th>77</th>\n",
       "      <td>Virginia</td>\n",
       "      <td>John A Cardea</td>\n",
       "      <td>[coccygectomy]</td>\n",
       "      <td>[ MD. Virginia Commonwealth University/ Medica...</td>\n",
       "    </tr>\n",
       "    <tr>\n",
       "      <th>78</th>\n",
       "      <td>Washington</td>\n",
       "      <td>Dr J. Scott Price</td>\n",
       "      <td>[coccygectomy]</td>\n",
       "      <td>[ ProOrtho. 12911-120th Avenue NE,  Suite H-21...</td>\n",
       "    </tr>\n",
       "    <tr>\n",
       "      <th>79</th>\n",
       "      <td>Washington, DC</td>\n",
       "      <td>Dr Warren Yu</td>\n",
       "      <td>[-:-, coccygectomy]</td>\n",
       "      <td>[ Orthopedic Surgeon. The George Washington Un...</td>\n",
       "    </tr>\n",
       "    <tr>\n",
       "      <th>80</th>\n",
       "      <td>Washington DC</td>\n",
       "      <td>Grosso NP</td>\n",
       "      <td>[-:-, coccygectomy]</td>\n",
       "      <td>[or van Dam BE,  Department of Orthopaedics,  ...</td>\n",
       "    </tr>\n",
       "    <tr>\n",
       "      <th>81</th>\n",
       "      <td>West Virginia</td>\n",
       "      <td>David M. McGee</td>\n",
       "      <td>[-:-, manual,, electrical, muscle, stimulation...</td>\n",
       "      <td>[ DPT,  PhD,  BCB PMD and K Steven Wiley,  MD,...</td>\n",
       "    </tr>\n",
       "  </tbody>\n",
       "</table>\n",
       "<p>82 rows × 4 columns</p>\n",
       "</div>"
      ],
      "text/plain": [
       "             state             doctor  \\\n",
       "0          Arizona   Dr. Mark Garrett   \n",
       "1       California  Rudolph J. Schrot   \n",
       "2       California     Gilbert Cadena   \n",
       "3       California    Kirkham B. Wood   \n",
       "4       California  Dr Steven D Mills   \n",
       "..             ...                ...   \n",
       "77        Virginia      John A Cardea   \n",
       "78      Washington  Dr J. Scott Price   \n",
       "79  Washington, DC       Dr Warren Yu   \n",
       "80   Washington DC          Grosso NP   \n",
       "81   West Virginia     David M. McGee   \n",
       "\n",
       "                                            treatment  \\\n",
       "0                                      [coccygectomy]   \n",
       "1                                      [coccygectomy]   \n",
       "2                                      [coccygectomy]   \n",
       "3                         [injections,, coccygectomy]   \n",
       "4                                      [coccygectomy]   \n",
       "..                                                ...   \n",
       "77                                     [coccygectomy]   \n",
       "78                                     [coccygectomy]   \n",
       "79                                [-:-, coccygectomy]   \n",
       "80                                [-:-, coccygectomy]   \n",
       "81  [-:-, manual,, electrical, muscle, stimulation...   \n",
       "\n",
       "                                                 info  \n",
       "0   [ surgeon. Barrow Neurosurgical Associates. Ph...  \n",
       "1   [ MD. Adult Cranial and Spinal Neurosurgery,  ...  \n",
       "2   [ MD. Neurological Surgery,  UC Irvine Medical...  \n",
       "3   [ MD. Professor of Orthopaedic Surgery at the ...  \n",
       "4   [. University of California,  Irvine,  333 Cit...  \n",
       "..                                                ...  \n",
       "77  [ MD. Virginia Commonwealth University/ Medica...  \n",
       "78  [ ProOrtho. 12911-120th Avenue NE,  Suite H-21...  \n",
       "79  [ Orthopedic Surgeon. The George Washington Un...  \n",
       "80  [or van Dam BE,  Department of Orthopaedics,  ...  \n",
       "81  [ DPT,  PhD,  BCB PMD and K Steven Wiley,  MD,...  \n",
       "\n",
       "[82 rows x 4 columns]"
      ]
     },
     "execution_count": 14,
     "metadata": {},
     "output_type": "execute_result"
    }
   ],
   "source": [
    "#convert the dictionary into a Pandas DataFrame\n",
    "df = pd.DataFrame(doc_dict)\n",
    "df"
   ]
  },
  {
   "cell_type": "code",
   "execution_count": 81,
   "metadata": {},
   "outputs": [],
   "source": [
    "#save to a csv file\n",
    "df.to_csv('coccygectomy doctors.csv', index=False)"
   ]
  },
  {
   "cell_type": "markdown",
   "metadata": {},
   "source": [
    "### The 'info' section still isn't pretty, but this result does two things:\n",
    "1. All 82 doctors that explicitly mention that they can perform coccygectomy were saved, down from the original list of 414 doctors;\n",
    "2. All these 82 doctors can be searched by states and their names. Their clinics and contact information can be found in the 'info' section. "
   ]
  }
 ],
 "metadata": {
  "kernelspec": {
   "display_name": "Python 3",
   "language": "python",
   "name": "python3"
  },
  "language_info": {
   "codemirror_mode": {
    "name": "ipython",
    "version": 3
   },
   "file_extension": ".py",
   "mimetype": "text/x-python",
   "name": "python",
   "nbconvert_exporter": "python",
   "pygments_lexer": "ipython3",
   "version": "3.8.3"
  }
 },
 "nbformat": 4,
 "nbformat_minor": 4
}
