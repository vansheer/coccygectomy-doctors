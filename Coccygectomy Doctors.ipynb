{
 "cells": [
  {
   "cell_type": "code",
   "execution_count": 67,
   "metadata": {},
   "outputs": [],
   "source": [
    "import requests\n",
    "import pandas as pd\n",
    "from bs4 import BeautifulSoup as soup"
   ]
  },
  {
   "cell_type": "code",
   "execution_count": 2,
   "metadata": {},
   "outputs": [],
   "source": [
    "coccygectomy_url = 'https://www.coccyx.org/treatmen/docsusa.htm'"
   ]
  },
  {
   "cell_type": "code",
   "execution_count": 8,
   "metadata": {},
   "outputs": [],
   "source": [
    "req = requests.get(coccygectomy_url, allow_redirects=False)"
   ]
  },
  {
   "cell_type": "code",
   "execution_count": 17,
   "metadata": {},
   "outputs": [],
   "source": [
    "page = soup(req.content)"
   ]
  },
  {
   "cell_type": "code",
   "execution_count": 30,
   "metadata": {},
   "outputs": [],
   "source": [
    "p = page.find_all('p')[4:-4]"
   ]
  },
  {
   "cell_type": "code",
   "execution_count": 46,
   "metadata": {},
   "outputs": [],
   "source": [
    "coccygectomy = [item for item in p if 'coccygectomy' in item.text]"
   ]
  },
  {
   "cell_type": "code",
   "execution_count": 54,
   "metadata": {},
   "outputs": [
    {
     "data": {
      "text/plain": [
       "['California -:- coccygectomy',\n",
       " \"Rudolph J. Schrot, MD. Adult Cranial and Spinal Neurosurgery, Sutter Medical Group, 2800 L Street, Suite 500, Sacramento, CA 95816. Tel. (916) 454-6916. Website: www.sutterhealth.org. Author of a paper on coccygectomy. See Noel's story, Rodger's story, Neil's story, Lynette's story, Linda's story, MJ's story, Josh's story, Will's story. \"]"
      ]
     },
     "execution_count": 54,
     "metadata": {},
     "output_type": "execute_result"
    }
   ],
   "source": [
    "coccygectomy[1].text.split('\\n')"
   ]
  },
  {
   "cell_type": "code",
   "execution_count": 79,
   "metadata": {},
   "outputs": [],
   "source": [
    "dict = [{'state': item.text.split(' -:- ')[0],\n",
    "      'doctor': item.text.split('\\n')[1].split(',')[0], \n",
    "      'treatment': item.text.split('\\n')[0].split()[2:], \n",
    "      'info': item.text.split('\\n')[1].split(',')[1:]} for item in coccygectomy]"
   ]
  },
  {
   "cell_type": "code",
   "execution_count": 80,
   "metadata": {},
   "outputs": [],
   "source": [
    "df = pd.DataFrame(dict)"
   ]
  },
  {
   "cell_type": "code",
   "execution_count": 81,
   "metadata": {},
   "outputs": [],
   "source": [
    "df.to_csv('coccygectomy doctors.csv', index=False)"
   ]
  }
 ],
 "metadata": {
  "kernelspec": {
   "display_name": "Python 3",
   "language": "python",
   "name": "python3"
  },
  "language_info": {
   "codemirror_mode": {
    "name": "ipython",
    "version": 3
   },
   "file_extension": ".py",
   "mimetype": "text/x-python",
   "name": "python",
   "nbconvert_exporter": "python",
   "pygments_lexer": "ipython3",
   "version": "3.8.3"
  }
 },
 "nbformat": 4,
 "nbformat_minor": 4
}
