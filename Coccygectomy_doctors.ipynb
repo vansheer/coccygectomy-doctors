{
 "cells": [
  {
   "cell_type": "code",
   "execution_count": 1,
   "metadata": {},
   "outputs": [],
   "source": [
    "import requests\n",
    "import pandas as pd\n",
    "from bs4 import BeautifulSoup as soup"
   ]
  },
  {
   "cell_type": "code",
   "execution_count": 21,
   "metadata": {},
   "outputs": [],
   "source": [
    "#set the url\n",
    "coccygectomy_url = 'https://www.coccyx.org/treatmen/docsusa.htm'"
   ]
  },
  {
   "cell_type": "code",
   "execution_count": 22,
   "metadata": {},
   "outputs": [],
   "source": [
    "#request\n",
    "req = requests.get(coccygectomy_url, allow_redirects=False)"
   ]
  },
  {
   "cell_type": "code",
   "execution_count": 23,
   "metadata": {},
   "outputs": [],
   "source": [
    "#parse with bs\n",
    "page = soup(req.content)"
   ]
  },
  {
   "cell_type": "code",
   "execution_count": 24,
   "metadata": {},
   "outputs": [],
   "source": [
    "p = page.find_all('p')[4:-4]"
   ]
  },
  {
   "cell_type": "code",
   "execution_count": 25,
   "metadata": {},
   "outputs": [],
   "source": [
    "#find all entries with the keyword 'coccygectomy'\n",
    "coccygectomy = [item for item in p if 'coccygectomy' in item.text]"
   ]
  },
  {
   "cell_type": "code",
   "execution_count": 26,
   "metadata": {},
   "outputs": [
    {
     "data": {
      "text/plain": [
       "[<p><strong>Arizona -:- coccygectomy</strong>\n",
       " Dr. Mark Garrett, surgeon. Barrow Neurosurgical Associates. Phone (602) 406-3181. Website: <a href=\"https://www.barrowbrainandspine.com/\">www.barrowbrainandspine.com</a>. See <a href=\"../personal/2013/anon1305.htm\">Anonymous's story</a>.</p>,\n",
       " <p><strong>California -:- coccygectomy</strong>\n",
       " Rudolph J. Schrot, MD. Adult Cranial and Spinal Neurosurgery, Sutter Medical Group, 2800 L Street, Suite 500, Sacramento, CA 95816. Tel. (916) 454-6916. Website: <a href=\"https://www.sutterhealth.org/dr-rudolph-j-schrot.html\">www.sutterhealth.org</a>. Author of a <a href=\"https://www.ncbi.nlm.nih.gov/pubmed/21332277\">paper on coccygectomy</a>. See <a href=\"../personal/2008/anon0815.htm\">Noel's story</a>, <a href=\"../personal/2009/rodger.htm\">Rodger's story</a>, <a href=\"../personal/2010/neil.htm\">Neil's story</a>, <a href=\"../personal/2011/lynette.htm\">Lynette's story</a>, <a href=\"../personal/2011/linda.htm\">Linda's story</a>, <a href=\"../personal/2018/mj.htm\">MJ's story</a>, <a href=\"../personal/2017/josh.htm\">Josh's story</a>, <a href=\"../personal/2020/will.htm\">Will's story</a>. </p>,\n",
       " <p><strong>California -:- coccygectomy</strong>\n",
       " Gilbert Cadena, MD. Neurological Surgery, UC Irvine Medical Center, 101 The City Dr S, Orange, CA 92868. Phone (714) 456-6011. Recommended by a patient.</p>]"
      ]
     },
     "execution_count": 26,
     "metadata": {},
     "output_type": "execute_result"
    }
   ],
   "source": [
    "#have an initial look. the data seems very unorganized.\n",
    "coccygectomy[:3]"
   ]
  },
  {
   "cell_type": "code",
   "execution_count": 27,
   "metadata": {},
   "outputs": [
    {
     "data": {
      "text/plain": [
       "['Arizona -:- coccygectomy',\n",
       " \"Dr. Mark Garrett, surgeon. Barrow Neurosurgical Associates. Phone (602) 406-3181. Website: www.barrowbrainandspine.com. See Anonymous's story.\"]"
      ]
     },
     "execution_count": 27,
     "metadata": {},
     "output_type": "execute_result"
    }
   ],
   "source": [
    "coccygectomy[0].text.split('\\n')"
   ]
  },
  {
   "cell_type": "code",
   "execution_count": 28,
   "metadata": {},
   "outputs": [],
   "source": [
    "#split each entry into small pieces and save in a dictionary\n",
    "doc_dict = [{'state': item.text.split(' -:- ')[0],\n",
    "      'doctor': item.text.split('\\n')[1].split(',')[0], \n",
    "      'treatment': item.text.split('\\n')[0].split()[2:], \n",
    "      'info': item.text.split('\\n')[1].split(',')[1:]} for item in coccygectomy]"
   ]
  },
  {
   "cell_type": "code",
   "execution_count": 34,
   "metadata": {},
   "outputs": [
    {
     "data": {
      "text/html": [
       "<div>\n",
       "<style scoped>\n",
       "    .dataframe tbody tr th:only-of-type {\n",
       "        vertical-align: middle;\n",
       "    }\n",
       "\n",
       "    .dataframe tbody tr th {\n",
       "        vertical-align: top;\n",
       "    }\n",
       "\n",
       "    .dataframe thead th {\n",
       "        text-align: right;\n",
       "    }\n",
       "</style>\n",
       "<table border=\"1\" class=\"dataframe\">\n",
       "  <thead>\n",
       "    <tr style=\"text-align: right;\">\n",
       "      <th></th>\n",
       "      <th>state</th>\n",
       "      <th>doctor</th>\n",
       "      <th>treatment</th>\n",
       "      <th>info</th>\n",
       "    </tr>\n",
       "  </thead>\n",
       "  <tbody>\n",
       "    <tr>\n",
       "      <th>0</th>\n",
       "      <td>Arizona</td>\n",
       "      <td>Dr. Mark Garrett</td>\n",
       "      <td>[coccygectomy]</td>\n",
       "      <td>[ surgeon. Barrow Neurosurgical Associates. Ph...</td>\n",
       "    </tr>\n",
       "    <tr>\n",
       "      <th>1</th>\n",
       "      <td>California</td>\n",
       "      <td>Rudolph J. Schrot</td>\n",
       "      <td>[coccygectomy]</td>\n",
       "      <td>[ MD. Adult Cranial and Spinal Neurosurgery,  ...</td>\n",
       "    </tr>\n",
       "    <tr>\n",
       "      <th>2</th>\n",
       "      <td>California</td>\n",
       "      <td>Gilbert Cadena</td>\n",
       "      <td>[coccygectomy]</td>\n",
       "      <td>[ MD. Neurological Surgery,  UC Irvine Medical...</td>\n",
       "    </tr>\n",
       "    <tr>\n",
       "      <th>3</th>\n",
       "      <td>California</td>\n",
       "      <td>Kirkham B. Wood</td>\n",
       "      <td>[injections,, coccygectomy]</td>\n",
       "      <td>[ MD. Professor of Orthopaedic Surgery at the ...</td>\n",
       "    </tr>\n",
       "    <tr>\n",
       "      <th>4</th>\n",
       "      <td>California</td>\n",
       "      <td>Dr Steven D Mills</td>\n",
       "      <td>[coccygectomy]</td>\n",
       "      <td>[. University of California,  Irvine,  333 Cit...</td>\n",
       "    </tr>\n",
       "  </tbody>\n",
       "</table>\n",
       "</div>"
      ],
      "text/plain": [
       "        state             doctor                    treatment  \\\n",
       "0     Arizona   Dr. Mark Garrett               [coccygectomy]   \n",
       "1  California  Rudolph J. Schrot               [coccygectomy]   \n",
       "2  California     Gilbert Cadena               [coccygectomy]   \n",
       "3  California    Kirkham B. Wood  [injections,, coccygectomy]   \n",
       "4  California  Dr Steven D Mills               [coccygectomy]   \n",
       "\n",
       "                                                info  \n",
       "0  [ surgeon. Barrow Neurosurgical Associates. Ph...  \n",
       "1  [ MD. Adult Cranial and Spinal Neurosurgery,  ...  \n",
       "2  [ MD. Neurological Surgery,  UC Irvine Medical...  \n",
       "3  [ MD. Professor of Orthopaedic Surgery at the ...  \n",
       "4  [. University of California,  Irvine,  333 Cit...  "
      ]
     },
     "execution_count": 34,
     "metadata": {},
     "output_type": "execute_result"
    }
   ],
   "source": [
    "#convert the dictionary into a Pandas DataFrame\n",
    "df = pd.DataFrame(doc_dict)\n",
    "df.head()"
   ]
  },
  {
   "cell_type": "code",
   "execution_count": 81,
   "metadata": {},
   "outputs": [],
   "source": [
    "#save to a csv file\n",
    "df.to_csv('coccygectomy doctors.csv', index=False)"
   ]
  },
  {
   "cell_type": "markdown",
   "metadata": {},
   "source": [
    "### The 'info' section still isn't pretty, but this result does two things:\n",
    "1. All 82 doctors that explicitly mention that they can perform coccygectomy were saved, down from the original list of 414 doctors;\n",
    "2. All these 82 doctors can be searched by states and their names. Their clinics and contact information can be found in the 'info' section. "
   ]
  }
 ],
 "metadata": {
  "kernelspec": {
   "display_name": "Python 3",
   "language": "python",
   "name": "python3"
  },
  "language_info": {
   "codemirror_mode": {
    "name": "ipython",
    "version": 3
   },
   "file_extension": ".py",
   "mimetype": "text/x-python",
   "name": "python",
   "nbconvert_exporter": "python",
   "pygments_lexer": "ipython3",
   "version": "3.8.3"
  }
 },
 "nbformat": 4,
 "nbformat_minor": 4
}
